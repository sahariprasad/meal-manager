{
 "cells": [
  {
   "cell_type": "code",
   "execution_count": 1,
   "metadata": {},
   "outputs": [],
   "source": [
    "from flask import Flask, redirect, url_for, request, render_template\n",
    "import pymongo"
   ]
  },
  {
   "cell_type": "code",
   "execution_count": 2,
   "metadata": {},
   "outputs": [],
   "source": [
    "mongo_client = pymongo.MongoClient(\"mongodb://localhost:27017/\")\n",
    "fatboy_db = mongo_client[\"fatboy\"]\n",
    "food_collection = fatboy_db[\"food\"]"
   ]
  },
  {
   "cell_type": "code",
   "execution_count": 7,
   "metadata": {},
   "outputs": [
    {
     "name": "stdout",
     "output_type": "stream",
     "text": [
      "[{'_id': 'abc', 'pretty_name': 'ABC', 'mandatory_ingredients': ['apple', 'beetroot', 'carrot'], 'optional_ingredients': [], 'meal_time': ['breakfast']}, {'_id': 'arisi-parupu-saadham', 'pretty_name': 'Arisi Paruppu Saadham', 'mandatory_ingredients': ['rice', 'toor dal', 'onion', 'tomato', 'garlic', 'sambar powder', 'turmeric powder', 'chilli'], 'optional_ingredients': [], 'meal_time': ['lunch']}, {'_id': 'avial', 'pretty_name': 'Avial', 'mandatory_ingredients': ['carrot', 'beans', 'potato', 'coconut'], 'optional_ingredients': [], 'meal_time': ['lunch']}, {'_id': 'beetroot-fry', 'pretty_name': 'Beetroot Fry', 'mandatory_ingredients': ['beetroot'], 'optional_ingredients': [], 'meal_time': ['lunch']}, {'_id': 'carrot-beans-side', 'pretty_name': 'Carrot Beans Fry', 'mandatory_ingredients': ['carrot', 'beans'], 'optional_ingredients': [], 'meal_time': ['lunch']}, {'_id': 'sandwich-cheese', 'pretty_name': 'Cheese Sandwich', 'mandatory_ingredients': ['bread', 'cheese'], 'optional_ingredients': ['capsicum'], 'meal_time': ['breakfast']}, {'_id': 'sandwich-cheese-capsicum', 'pretty_name': 'Cheese and Capsicum Sandwich', 'mandatory_ingredients': ['bread', 'cheese', 'capsicum'], 'optional_ingredients': [], 'meal_time': ['breakfast']}, {'_id': 'chilli-parotta', 'pretty_name': 'Chilli Parotta', 'mandatory_ingredients': ['parotta', 'tomato', 'onion', 'ginger garlic paste', 'garam masala', 'chilli powder', 'cloves', 'cardamom'], 'optional_ingredients': [], 'meal_time': ['dinner']}, {'_id': 'cereal-chocos', 'pretty_name': 'Chocos', 'mandatory_ingredients': ['chocos'], 'optional_ingredients': [], 'meal_time': ['breakfast']}, {'_id': 'chutney-coconut', 'pretty_name': 'Coconut Chutney', 'mandatory_ingredients': ['coconut', 'pottu kadala', 'chilli'], 'optional_ingredients': [], 'meal_time': ['breakfast', 'dinner']}, {'_id': 'coconut-curry-spaghetti', 'pretty_name': 'Coconut Curry Spaghetti', 'mandatory_ingredients': ['coconut', 'spaghetti', 'onion', 'tomato', 'garlic', 'turmeric powder', 'curry powder'], 'optional_ingredients': ['oregano'], 'meal_time': ['dinner']}, {'_id': 'cereal-corn', 'pretty_name': 'Corn flakes', 'mandatory_ingredients': ['corn flakes'], 'optional_ingredients': [], 'meal_time': ['breakfast']}, {'_id': 'dosa', 'pretty_name': 'Dosa', 'mandatory_ingredients': ['batter'], 'optional_ingredients': [], 'meal_time': ['breakfast', 'dinner']}, {'_id': 'gojju', 'pretty_name': 'Gojju', 'mandatory_ingredients': ['kadala maavu', 'kadala paruppu', 'onion', 'tomato', 'chilli'], 'optional_ingredients': [], 'meal_time': ['dinner']}, {'_id': 'grape-juice', 'pretty_name': 'Grape Juice', 'mandatory_ingredients': ['grapes', 'sugar'], 'optional_ingredients': [], 'meal_time': ['juice', 'breakfast']}, {'_id': 'sandwich-jam', 'pretty_name': 'Jam Sandwich', 'mandatory_ingredients': ['jam', 'bread'], 'optional_ingredients': [], 'meal_time': ['breakfast']}, {'_id': 'ladys-finger-fry', 'pretty_name': \"Lady's Finger Fry\", 'mandatory_ingredients': [\"lady's finger\"], 'optional_ingredients': [], 'meal_time': ['lunch']}, {'_id': 'sandwich-mayonnaise', 'pretty_name': 'Mayo Sandwich', 'mandatory_ingredients': ['bread', 'mayonnaise'], 'optional_ingredients': ['capsicum'], 'meal_time': ['breakfast']}, {'_id': 'omlette', 'pretty_name': 'Omlette - Plain', 'mandatory_ingredients': ['egg'], 'optional_ingredients': [], 'meal_time': ['breakfast', 'lunch', 'dinner']}, {'_id': 'pongal', 'pretty_name': 'Pongal', 'mandatory_ingredients': ['pongal rice', 'seeragam', 'black pepper', 'moong dal'], 'optional_ingredients': [], 'meal_time': ['dinner']}, {'_id': 'popcorn', 'pretty_name': 'Popcorn', 'mandatory_ingredients': ['popcorn'], 'optional_ingredients': [], 'meal_time': ['snack']}, {'_id': 'potato-fry', 'pretty_name': 'Potato Fry', 'mandatory_ingredients': ['potato', 'chilli powder'], 'optional_ingredients': [], 'meal_time': ['breakfast', 'dinner']}, {'_id': 'ragi-semiya', 'pretty_name': 'Ragi Semiya', 'mandatory_ingredients': ['ragi semiya', 'onion', 'chilli'], 'optional_ingredients': ['mustard', 'kadala paruppu'], 'meal_time': ['breakfast', 'dinner']}, {'_id': 'red-pasta', 'pretty_name': 'Red Sauce Pasta', 'mandatory_ingredients': ['onion', 'pasta', 'tomato puree', 'garlic', 'pasta seasoning'], 'optional_ingredients': ['tomato'], 'meal_time': ['lunch', 'dinner']}, {'_id': 'sambar', 'pretty_name': 'Sambar', 'mandatory_ingredients': ['toor dal', 'onion', 'tomato', 'sambar powder'], 'optional_ingredients': [], 'meal_time': ['breakfast', 'lunch', 'dinner']}, {'_id': 'semiya', 'pretty_name': 'Semiya', 'mandatory_ingredients': ['semiya', 'onion', 'chilli'], 'optional_ingredients': ['maggi masala', 'mustard', 'kadala paruppu'], 'meal_time': ['breakfast', 'dinner']}, {'_id': 'ramen-plain', 'pretty_name': 'Top ramen', 'mandatory_ingredients': ['top ramen'], 'optional_ingredients': ['tomato', 'onion'], 'meal_time': ['dinner']}, {'_id': 'something', 'pretty_name': 'something', 'mandatory_ingredients': ['something1', 'something2', 'something3'], 'optional_ingredients': [], 'meal_time': ['anytime']}, {'_id': 'something2', 'pretty_name': 'something', 'mandatory_ingredients': ['something1', 'something2', 'something3'], 'optional_ingredients': [], 'meal_time': ['anytime']}]\n"
     ]
    }
   ],
   "source": [
    "all_recipes = list(food_collection.find().sort('pretty_name'))\n",
    "print(all_recipes)"
   ]
  },
  {
   "cell_type": "code",
   "execution_count": 20,
   "metadata": {},
   "outputs": [
    {
     "name": "stdout",
     "output_type": "stream",
     "text": [
      "['Apple', 'Batter', 'Beans', 'Beetroot', 'Black pepper', 'Bread', 'Capsicum', 'Cardamom', 'Carrot', 'Cheese', 'Chilli', 'Chilli powder', 'Chocos', 'Cloves', 'Coconut', 'Corn flakes', 'Curry powder', 'Egg', 'Garam masala', 'Garlic', 'Ginger garlic paste', 'Grapes', 'Jam', 'Kadala maavu', 'Kadala paruppu', \"Lady's finger\", 'Mayonnaise', 'Moong dal', 'Onion', 'Parotta', 'Pasta', 'Pasta seasoning', 'Pongal rice', 'Popcorn', 'Potato', 'Pottu kadala', 'Ragi semiya', 'Rice', 'Sambar powder', 'Seeragam', 'Semiya', 'Something1', 'Something2', 'Something3', 'Spaghetti', 'Sugar', 'Tomato', 'Tomato puree', 'Toor dal', 'Top ramen', 'Turmeric powder']\n"
     ]
    }
   ],
   "source": [
    "ingredients_list_full = []\n",
    "for item in all_recipes:\n",
    "    ingredients_list_full.extend(item[\"mandatory_ingredients\"])\n",
    "ingredients_list_full = set(ingredients_list_full)\n",
    "ingredients_list_full = [ingredient.capitalize() for ingredient in ingredients_list_full]\n",
    "ingredients_list_full.sort()\n",
    "print(ingredients_list_full)"
   ]
  }
 ],
 "metadata": {
  "kernelspec": {
   "display_name": "Python 3.9.4 64-bit",
   "language": "python",
   "name": "python3"
  },
  "language_info": {
   "codemirror_mode": {
    "name": "ipython",
    "version": 3
   },
   "file_extension": ".py",
   "mimetype": "text/x-python",
   "name": "python",
   "nbconvert_exporter": "python",
   "pygments_lexer": "ipython3",
   "version": "3.9.4"
  },
  "orig_nbformat": 4,
  "vscode": {
   "interpreter": {
    "hash": "11ebdd5ddf7df85be73c20586ff5fe172379122ff41142685c484cce480fa77e"
   }
  }
 },
 "nbformat": 4,
 "nbformat_minor": 2
}
